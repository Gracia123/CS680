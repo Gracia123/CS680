{
  "nbformat": 4,
  "nbformat_minor": 0,
  "metadata": {
    "colab": {
      "name": "cs680_A2_Logistic_Regression.ipynb",
      "provenance": [],
      "collapsed_sections": [],
      "include_colab_link": true
    },
    "kernelspec": {
      "name": "python3",
      "display_name": "Python 3"
    }
  },
  "cells": [
    {
      "cell_type": "markdown",
      "metadata": {
        "id": "view-in-github",
        "colab_type": "text"
      },
      "source": [
        "<a href=\"https://colab.research.google.com/github/Gracia123/Sales-Prediction/blob/main/cs680_A2_Logistic_Regression.ipynb\" target=\"_parent\"><img src=\"https://colab.research.google.com/assets/colab-badge.svg\" alt=\"Open In Colab\"/></a>"
      ]
    },
    {
      "cell_type": "markdown",
      "metadata": {
        "id": "JFXZug066bJX"
      },
      "source": [
        "# Upload files in Google Colab\n",
        "If you are running this Jupyter Notebook on Google Colab, run this cell to upload the data files (train_inputs.csv, train_targets.csv, test_inputs.csv, test_targets.csv) in the colab virtual machine.  You will be prompted to select files that you would like to upload. \n",
        "\n",
        "If you are running this Jupyter Notebook on your computer, you do not need to run this cell."
      ]
    },
    {
      "cell_type": "code",
      "metadata": {
        "id": "dqBJV_Br4XeI",
        "colab": {
          "resources": {
            "http://localhost:8080/nbextensions/google.colab/files.js": {
              "data": "Ly8gQ29weXJpZ2h0IDIwMTcgR29vZ2xlIExMQwovLwovLyBMaWNlbnNlZCB1bmRlciB0aGUgQXBhY2hlIExpY2Vuc2UsIFZlcnNpb24gMi4wICh0aGUgIkxpY2Vuc2UiKTsKLy8geW91IG1heSBub3QgdXNlIHRoaXMgZmlsZSBleGNlcHQgaW4gY29tcGxpYW5jZSB3aXRoIHRoZSBMaWNlbnNlLgovLyBZb3UgbWF5IG9idGFpbiBhIGNvcHkgb2YgdGhlIExpY2Vuc2UgYXQKLy8KLy8gICAgICBodHRwOi8vd3d3LmFwYWNoZS5vcmcvbGljZW5zZXMvTElDRU5TRS0yLjAKLy8KLy8gVW5sZXNzIHJlcXVpcmVkIGJ5IGFwcGxpY2FibGUgbGF3IG9yIGFncmVlZCB0byBpbiB3cml0aW5nLCBzb2Z0d2FyZQovLyBkaXN0cmlidXRlZCB1bmRlciB0aGUgTGljZW5zZSBpcyBkaXN0cmlidXRlZCBvbiBhbiAiQVMgSVMiIEJBU0lTLAovLyBXSVRIT1VUIFdBUlJBTlRJRVMgT1IgQ09ORElUSU9OUyBPRiBBTlkgS0lORCwgZWl0aGVyIGV4cHJlc3Mgb3IgaW1wbGllZC4KLy8gU2VlIHRoZSBMaWNlbnNlIGZvciB0aGUgc3BlY2lmaWMgbGFuZ3VhZ2UgZ292ZXJuaW5nIHBlcm1pc3Npb25zIGFuZAovLyBsaW1pdGF0aW9ucyB1bmRlciB0aGUgTGljZW5zZS4KCi8qKgogKiBAZmlsZW92ZXJ2aWV3IEhlbHBlcnMgZm9yIGdvb2dsZS5jb2xhYiBQeXRob24gbW9kdWxlLgogKi8KKGZ1bmN0aW9uKHNjb3BlKSB7CmZ1bmN0aW9uIHNwYW4odGV4dCwgc3R5bGVBdHRyaWJ1dGVzID0ge30pIHsKICBjb25zdCBlbGVtZW50ID0gZG9jdW1lbnQuY3JlYXRlRWxlbWVudCgnc3BhbicpOwogIGVsZW1lbnQudGV4dENvbnRlbnQgPSB0ZXh0OwogIGZvciAoY29uc3Qga2V5IG9mIE9iamVjdC5rZXlzKHN0eWxlQXR0cmlidXRlcykpIHsKICAgIGVsZW1lbnQuc3R5bGVba2V5XSA9IHN0eWxlQXR0cmlidXRlc1trZXldOwogIH0KICByZXR1cm4gZWxlbWVudDsKfQoKLy8gTWF4IG51bWJlciBvZiBieXRlcyB3aGljaCB3aWxsIGJlIHVwbG9hZGVkIGF0IGEgdGltZS4KY29uc3QgTUFYX1BBWUxPQURfU0laRSA9IDEwMCAqIDEwMjQ7CgpmdW5jdGlvbiBfdXBsb2FkRmlsZXMoaW5wdXRJZCwgb3V0cHV0SWQpIHsKICBjb25zdCBzdGVwcyA9IHVwbG9hZEZpbGVzU3RlcChpbnB1dElkLCBvdXRwdXRJZCk7CiAgY29uc3Qgb3V0cHV0RWxlbWVudCA9IGRvY3VtZW50LmdldEVsZW1lbnRCeUlkKG91dHB1dElkKTsKICAvLyBDYWNoZSBzdGVwcyBvbiB0aGUgb3V0cHV0RWxlbWVudCB0byBtYWtlIGl0IGF2YWlsYWJsZSBmb3IgdGhlIG5leHQgY2FsbAogIC8vIHRvIHVwbG9hZEZpbGVzQ29udGludWUgZnJvbSBQeXRob24uCiAgb3V0cHV0RWxlbWVudC5zdGVwcyA9IHN0ZXBzOwoKICByZXR1cm4gX3VwbG9hZEZpbGVzQ29udGludWUob3V0cHV0SWQpOwp9CgovLyBUaGlzIGlzIHJvdWdobHkgYW4gYXN5bmMgZ2VuZXJhdG9yIChub3Qgc3VwcG9ydGVkIGluIHRoZSBicm93c2VyIHlldCksCi8vIHdoZXJlIHRoZXJlIGFyZSBtdWx0aXBsZSBhc3luY2hyb25vdXMgc3RlcHMgYW5kIHRoZSBQeXRob24gc2lkZSBpcyBnb2luZwovLyB0byBwb2xsIGZvciBjb21wbGV0aW9uIG9mIGVhY2ggc3RlcC4KLy8gVGhpcyB1c2VzIGEgUHJvbWlzZSB0byBibG9jayB0aGUgcHl0aG9uIHNpZGUgb24gY29tcGxldGlvbiBvZiBlYWNoIHN0ZXAsCi8vIHRoZW4gcGFzc2VzIHRoZSByZXN1bHQgb2YgdGhlIHByZXZpb3VzIHN0ZXAgYXMgdGhlIGlucHV0IHRvIHRoZSBuZXh0IHN0ZXAuCmZ1bmN0aW9uIF91cGxvYWRGaWxlc0NvbnRpbnVlKG91dHB1dElkKSB7CiAgY29uc3Qgb3V0cHV0RWxlbWVudCA9IGRvY3VtZW50LmdldEVsZW1lbnRCeUlkKG91dHB1dElkKTsKICBjb25zdCBzdGVwcyA9IG91dHB1dEVsZW1lbnQuc3RlcHM7CgogIGNvbnN0IG5leHQgPSBzdGVwcy5uZXh0KG91dHB1dEVsZW1lbnQubGFzdFByb21pc2VWYWx1ZSk7CiAgcmV0dXJuIFByb21pc2UucmVzb2x2ZShuZXh0LnZhbHVlLnByb21pc2UpLnRoZW4oKHZhbHVlKSA9PiB7CiAgICAvLyBDYWNoZSB0aGUgbGFzdCBwcm9taXNlIHZhbHVlIHRvIG1ha2UgaXQgYXZhaWxhYmxlIHRvIHRoZSBuZXh0CiAgICAvLyBzdGVwIG9mIHRoZSBnZW5lcmF0b3IuCiAgICBvdXRwdXRFbGVtZW50Lmxhc3RQcm9taXNlVmFsdWUgPSB2YWx1ZTsKICAgIHJldHVybiBuZXh0LnZhbHVlLnJlc3BvbnNlOwogIH0pOwp9CgovKioKICogR2VuZXJhdG9yIGZ1bmN0aW9uIHdoaWNoIGlzIGNhbGxlZCBiZXR3ZWVuIGVhY2ggYXN5bmMgc3RlcCBvZiB0aGUgdXBsb2FkCiAqIHByb2Nlc3MuCiAqIEBwYXJhbSB7c3RyaW5nfSBpbnB1dElkIEVsZW1lbnQgSUQgb2YgdGhlIGlucHV0IGZpbGUgcGlja2VyIGVsZW1lbnQuCiAqIEBwYXJhbSB7c3RyaW5nfSBvdXRwdXRJZCBFbGVtZW50IElEIG9mIHRoZSBvdXRwdXQgZGlzcGxheS4KICogQHJldHVybiB7IUl0ZXJhYmxlPCFPYmplY3Q+fSBJdGVyYWJsZSBvZiBuZXh0IHN0ZXBzLgogKi8KZnVuY3Rpb24qIHVwbG9hZEZpbGVzU3RlcChpbnB1dElkLCBvdXRwdXRJZCkgewogIGNvbnN0IGlucHV0RWxlbWVudCA9IGRvY3VtZW50LmdldEVsZW1lbnRCeUlkKGlucHV0SWQpOwogIGlucHV0RWxlbWVudC5kaXNhYmxlZCA9IGZhbHNlOwoKICBjb25zdCBvdXRwdXRFbGVtZW50ID0gZG9jdW1lbnQuZ2V0RWxlbWVudEJ5SWQob3V0cHV0SWQpOwogIG91dHB1dEVsZW1lbnQuaW5uZXJIVE1MID0gJyc7CgogIGNvbnN0IHBpY2tlZFByb21pc2UgPSBuZXcgUHJvbWlzZSgocmVzb2x2ZSkgPT4gewogICAgaW5wdXRFbGVtZW50LmFkZEV2ZW50TGlzdGVuZXIoJ2NoYW5nZScsIChlKSA9PiB7CiAgICAgIHJlc29sdmUoZS50YXJnZXQuZmlsZXMpOwogICAgfSk7CiAgfSk7CgogIGNvbnN0IGNhbmNlbCA9IGRvY3VtZW50LmNyZWF0ZUVsZW1lbnQoJ2J1dHRvbicpOwogIGlucHV0RWxlbWVudC5wYXJlbnRFbGVtZW50LmFwcGVuZENoaWxkKGNhbmNlbCk7CiAgY2FuY2VsLnRleHRDb250ZW50ID0gJ0NhbmNlbCB1cGxvYWQnOwogIGNvbnN0IGNhbmNlbFByb21pc2UgPSBuZXcgUHJvbWlzZSgocmVzb2x2ZSkgPT4gewogICAgY2FuY2VsLm9uY2xpY2sgPSAoKSA9PiB7CiAgICAgIHJlc29sdmUobnVsbCk7CiAgICB9OwogIH0pOwoKICAvLyBXYWl0IGZvciB0aGUgdXNlciB0byBwaWNrIHRoZSBmaWxlcy4KICBjb25zdCBmaWxlcyA9IHlpZWxkIHsKICAgIHByb21pc2U6IFByb21pc2UucmFjZShbcGlja2VkUHJvbWlzZSwgY2FuY2VsUHJvbWlzZV0pLAogICAgcmVzcG9uc2U6IHsKICAgICAgYWN0aW9uOiAnc3RhcnRpbmcnLAogICAgfQogIH07CgogIGNhbmNlbC5yZW1vdmUoKTsKCiAgLy8gRGlzYWJsZSB0aGUgaW5wdXQgZWxlbWVudCBzaW5jZSBmdXJ0aGVyIHBpY2tzIGFyZSBub3QgYWxsb3dlZC4KICBpbnB1dEVsZW1lbnQuZGlzYWJsZWQgPSB0cnVlOwoKICBpZiAoIWZpbGVzKSB7CiAgICByZXR1cm4gewogICAgICByZXNwb25zZTogewogICAgICAgIGFjdGlvbjogJ2NvbXBsZXRlJywKICAgICAgfQogICAgfTsKICB9CgogIGZvciAoY29uc3QgZmlsZSBvZiBmaWxlcykgewogICAgY29uc3QgbGkgPSBkb2N1bWVudC5jcmVhdGVFbGVtZW50KCdsaScpOwogICAgbGkuYXBwZW5kKHNwYW4oZmlsZS5uYW1lLCB7Zm9udFdlaWdodDogJ2JvbGQnfSkpOwogICAgbGkuYXBwZW5kKHNwYW4oCiAgICAgICAgYCgke2ZpbGUudHlwZSB8fCAnbi9hJ30pIC0gJHtmaWxlLnNpemV9IGJ5dGVzLCBgICsKICAgICAgICBgbGFzdCBtb2RpZmllZDogJHsKICAgICAgICAgICAgZmlsZS5sYXN0TW9kaWZpZWREYXRlID8gZmlsZS5sYXN0TW9kaWZpZWREYXRlLnRvTG9jYWxlRGF0ZVN0cmluZygpIDoKICAgICAgICAgICAgICAgICAgICAgICAgICAgICAgICAgICAgJ24vYSd9IC0gYCkpOwogICAgY29uc3QgcGVyY2VudCA9IHNwYW4oJzAlIGRvbmUnKTsKICAgIGxpLmFwcGVuZENoaWxkKHBlcmNlbnQpOwoKICAgIG91dHB1dEVsZW1lbnQuYXBwZW5kQ2hpbGQobGkpOwoKICAgIGNvbnN0IGZpbGVEYXRhUHJvbWlzZSA9IG5ldyBQcm9taXNlKChyZXNvbHZlKSA9PiB7CiAgICAgIGNvbnN0IHJlYWRlciA9IG5ldyBGaWxlUmVhZGVyKCk7CiAgICAgIHJlYWRlci5vbmxvYWQgPSAoZSkgPT4gewogICAgICAgIHJlc29sdmUoZS50YXJnZXQucmVzdWx0KTsKICAgICAgfTsKICAgICAgcmVhZGVyLnJlYWRBc0FycmF5QnVmZmVyKGZpbGUpOwogICAgfSk7CiAgICAvLyBXYWl0IGZvciB0aGUgZGF0YSB0byBiZSByZWFkeS4KICAgIGxldCBmaWxlRGF0YSA9IHlpZWxkIHsKICAgICAgcHJvbWlzZTogZmlsZURhdGFQcm9taXNlLAogICAgICByZXNwb25zZTogewogICAgICAgIGFjdGlvbjogJ2NvbnRpbnVlJywKICAgICAgfQogICAgfTsKCiAgICAvLyBVc2UgYSBjaHVua2VkIHNlbmRpbmcgdG8gYXZvaWQgbWVzc2FnZSBzaXplIGxpbWl0cy4gU2VlIGIvNjIxMTU2NjAuCiAgICBsZXQgcG9zaXRpb24gPSAwOwogICAgd2hpbGUgKHBvc2l0aW9uIDwgZmlsZURhdGEuYnl0ZUxlbmd0aCkgewogICAgICBjb25zdCBsZW5ndGggPSBNYXRoLm1pbihmaWxlRGF0YS5ieXRlTGVuZ3RoIC0gcG9zaXRpb24sIE1BWF9QQVlMT0FEX1NJWkUpOwogICAgICBjb25zdCBjaHVuayA9IG5ldyBVaW50OEFycmF5KGZpbGVEYXRhLCBwb3NpdGlvbiwgbGVuZ3RoKTsKICAgICAgcG9zaXRpb24gKz0gbGVuZ3RoOwoKICAgICAgY29uc3QgYmFzZTY0ID0gYnRvYShTdHJpbmcuZnJvbUNoYXJDb2RlLmFwcGx5KG51bGwsIGNodW5rKSk7CiAgICAgIHlpZWxkIHsKICAgICAgICByZXNwb25zZTogewogICAgICAgICAgYWN0aW9uOiAnYXBwZW5kJywKICAgICAgICAgIGZpbGU6IGZpbGUubmFtZSwKICAgICAgICAgIGRhdGE6IGJhc2U2NCwKICAgICAgICB9LAogICAgICB9OwogICAgICBwZXJjZW50LnRleHRDb250ZW50ID0KICAgICAgICAgIGAke01hdGgucm91bmQoKHBvc2l0aW9uIC8gZmlsZURhdGEuYnl0ZUxlbmd0aCkgKiAxMDApfSUgZG9uZWA7CiAgICB9CiAgfQoKICAvLyBBbGwgZG9uZS4KICB5aWVsZCB7CiAgICByZXNwb25zZTogewogICAgICBhY3Rpb246ICdjb21wbGV0ZScsCiAgICB9CiAgfTsKfQoKc2NvcGUuZ29vZ2xlID0gc2NvcGUuZ29vZ2xlIHx8IHt9OwpzY29wZS5nb29nbGUuY29sYWIgPSBzY29wZS5nb29nbGUuY29sYWIgfHwge307CnNjb3BlLmdvb2dsZS5jb2xhYi5fZmlsZXMgPSB7CiAgX3VwbG9hZEZpbGVzLAogIF91cGxvYWRGaWxlc0NvbnRpbnVlLAp9Owp9KShzZWxmKTsK",
              "ok": true,
              "headers": [
                [
                  "content-type",
                  "application/javascript"
                ]
              ],
              "status": 200,
              "status_text": ""
            }
          },
          "base_uri": "https://localhost:8080/",
          "height": 212
        },
        "outputId": "2526cfe2-66e0-4569-e179-53ab800df480"
      },
      "source": [
        "from google.colab import files\n",
        "uploaded = files.upload()\n",
        "%ls"
      ],
      "execution_count": null,
      "outputs": [
        {
          "output_type": "display_data",
          "data": {
            "text/html": [
              "\n",
              "     <input type=\"file\" id=\"files-dadbfb11-e82f-480a-a34c-4ba7ab64c1b0\" name=\"files[]\" multiple disabled\n",
              "        style=\"border:none\" />\n",
              "     <output id=\"result-dadbfb11-e82f-480a-a34c-4ba7ab64c1b0\">\n",
              "      Upload widget is only available when the cell has been executed in the\n",
              "      current browser session. Please rerun this cell to enable.\n",
              "      </output>\n",
              "      <script src=\"/nbextensions/google.colab/files.js\"></script> "
            ],
            "text/plain": [
              "<IPython.core.display.HTML object>"
            ]
          },
          "metadata": {
            "tags": []
          }
        },
        {
          "output_type": "stream",
          "text": [
            "Saving test_inputs.csv to test_inputs.csv\n",
            "Saving test_labels.csv to test_labels.csv\n",
            "Saving train_inputs.csv to train_inputs.csv\n",
            "Saving train_labels.csv to train_labels.csv\n",
            "\u001b[0m\u001b[01;34msample_data\u001b[0m/     test_labels.csv   train_labels.csv\n",
            "test_inputs.csv  train_inputs.csv\n"
          ],
          "name": "stdout"
        }
      ]
    },
    {
      "cell_type": "markdown",
      "metadata": {
        "id": "LZDpxE4jmFwA"
      },
      "source": [
        "# Import libraries \n",
        "Do not use any other Python library."
      ]
    },
    {
      "cell_type": "code",
      "metadata": {
        "id": "m_1d0BPfmacB"
      },
      "source": [
        "import numpy as np\n",
        "import matplotlib.pyplot as plt"
      ],
      "execution_count": null,
      "outputs": []
    },
    {
      "cell_type": "markdown",
      "metadata": {
        "id": "6keYhcgi7nbf"
      },
      "source": [
        "# Function: load_logistic_regression_data\n",
        "\n",
        "This function loads the data for Logistic Regression from a local drive into RAM\n",
        "\n",
        "Outputs:\n",
        "\n",
        "*   **train_inputs**: numpy array of N training data points x M features\n",
        "*   **train_labels**: numpy array of N training labels\n",
        "*   **test_inputs**: numpy array of N' test data points x M features\n",
        "*   **test_labels**: numpy array of N' test labels"
      ]
    },
    {
      "cell_type": "code",
      "metadata": {
        "id": "vcG5U2lR7utt"
      },
      "source": [
        "def load_logistic_regression_data():\n",
        "  test_inputs = np.genfromtxt('test_inputs.csv', delimiter=',')\n",
        "  test_labels = np.genfromtxt('test_labels.csv', delimiter=',')\n",
        "  train_inputs = np.genfromtxt('train_inputs.csv', delimiter=',')\n",
        "  train_labels = np.genfromtxt('train_labels.csv', delimiter=',')\n",
        "  return train_inputs, train_labels, test_inputs, test_labels"
      ],
      "execution_count": null,
      "outputs": []
    },
    {
      "cell_type": "markdown",
      "metadata": {
        "id": "NZTxUMDM2PDx"
      },
      "source": [
        "# Function: sigmoid\n",
        "\n",
        "This function implements the logistic sigmoid.\n",
        "\n",
        "Input:\n",
        "*   **input**: vector of inputs (numpy array of floats)\n",
        "\n",
        "Output:\n",
        "*   **output**: vector of outputs (numpy array of floats)"
      ]
    },
    {
      "cell_type": "code",
      "metadata": {
        "id": "evR9GYnV3FmM"
      },
      "source": [
        "def sigmoid(input):\n",
        "  #output = np.zeros(len(input))\n",
        "  output = []\n",
        "  output = 1 / (1+np.exp(-(input)))\n",
        "  return output"
      ],
      "execution_count": null,
      "outputs": []
    },
    {
      "cell_type": "markdown",
      "metadata": {
        "id": "GwLo3p4f8bTa"
      },
      "source": [
        "# Function: predict_logistic_regression\n",
        "\n",
        "This function uses a vector of weights to make predictions for a set of inputs.  The prediction for each data point is a distribution over the labels.  Assume that there are only two possible labels {0,1}.\n",
        "\n",
        "Inputs:\n",
        "*   **inputs**: matrix of input data points for which we want to make a prediction (numpy array of N data points x M+1 features)\n",
        "*   **weights**: vector of weights (numpy array of M+1 weights)\n",
        "\n",
        "Output:\n",
        "*   **predicted_probabilities**: matrix of predicted probabilities (numpy array of N data points x 2 labels)"
      ]
    },
    {
      "cell_type": "code",
      "metadata": {
        "id": "iX04_wClRqkV"
      },
      "source": [
        "def predict_logistic_regression(inputs, weights):\n",
        "  predicted_probabilities = np.zeros((inputs.shape[0],2))\n",
        "  z = sigmoid(np.dot(inputs,weights.T))\n",
        "  column_1 = 1-z\n",
        "  column_2 = z\n",
        "  predicted_probabilities = np.column_stack((column_1,column_2))\n",
        "  return predicted_probabilities"
      ],
      "execution_count": null,
      "outputs": []
    },
    {
      "cell_type": "markdown",
      "metadata": {
        "id": "fmfPN7K0RtQ5"
      },
      "source": [
        "# Function eval_logistic_regression\n",
        "\n",
        "This function evaluates a set of predictions by computing the negative log probabilities of the labels and the accuracy (percentage of correctly predicted labels).  Assume that there are only two possible labels {0,1}.  A data point is correctly labeled when the probability of the target label is >= 0.5.\n",
        "\n",
        "Inputs:\n",
        "*   **inputs**: matrix of input data points for which we will evaluate the predictions (numpy array of N data points x M+1 features)\n",
        "*   **weights**: vector of weights (numpy array of M+1 weights)\n",
        "*   **labels**: vector of target labels associated with the inputs (numpy array of N labels)\n",
        "\n",
        "Outputs:\n",
        "*   **neg_log_prob**: negative log probability of the set of predictions (float)\n",
        "*   **accuracy**: percentage of correctly labeled data points (float)"
      ]
    },
    {
      "cell_type": "code",
      "metadata": {
        "id": "wC14LEsvTxbu"
      },
      "source": [
        "def eval_logistic_regression(inputs, weights, labels):\n",
        "  z = sigmoid(np.dot(inputs,weights.T))\n",
        "  loss_1 = np.dot(labels,(np.log(z)))\n",
        "  loss_2 = np.dot((1-labels),(np.log(1-z)))\n",
        "  loss = -(np.sum(loss_1 + loss_2))\n",
        "  #loss = min(-((labels*np.log(z))+((1-labels)*np.log(1-z))))\n",
        "  neg_log_prob = loss\n",
        "  \n",
        "  predictions = []\n",
        "  predictions_labels = []\n",
        "  labels = labels.flatten()\n",
        "  pred_labels = []\n",
        "  predictions = (predict_logistic_regression(inputs,weights))\n",
        "  pred_labels = (predictions[:,1] > 0.5)\n",
        "  prediction_labels = pred_labels.astype(int)\n",
        "  element = np.equal(labels, pred_labels)\n",
        "  accuracy = np.mean(element)\n",
        "  accuracy = np.round(accuracy*100, 4)\n",
        "    \n",
        "  return neg_log_prob, accuracy"
      ],
      "execution_count": null,
      "outputs": []
    },
    {
      "cell_type": "markdown",
      "metadata": {
        "id": "R7hZ4XVP4U4y"
      },
      "source": [
        "Function: initialize_weights\n",
        "\n",
        "This function initializes the weights uniformly at random in the interval [-0.05,0.05]\n",
        "\n",
        "Input:\n",
        "*   **n_weights**: # of weights to be initialized (integer)\n",
        "\n",
        "Output:\n",
        "*   **random_weights**: vector of weights (numpy array of floats)"
      ]
    },
    {
      "cell_type": "code",
      "metadata": {
        "id": "9OjhevpV5FBg"
      },
      "source": [
        "def initialize_weights(n_weights):\n",
        "  random_weights = np.random.uniform(-0.05,0.05,n_weights)\n",
        "  return random_weights"
      ],
      "execution_count": null,
      "outputs": []
    },
    {
      "cell_type": "markdown",
      "metadata": {
        "id": "RMAzC5xXT0H-"
      },
      "source": [
        "# Function train_logistic_regression\n",
        "\n",
        "This function optimizes a set of weights for logistic regression based on a training set.  Initialize the weights with the function initialize_weights.  Implement Newton's algorithm to optimize the weights.  Stop Newton's algorithm when the maximum change for any weight is less than 0.001 in two consecutive iterations. Assume that there are only two labels {0,1}.\n",
        "\n",
        "Inputs:\n",
        "*   **train_inputs**: matrix of input training points (numpy array of N data points x M+1 features)\n",
        "*   **train_labels**: vector of labels associated with the inputs (numpy array of N labels)\n",
        "*   **lambda_hyperparam**: lambda hyperparameter used to adjust the importance of the regularizer (scalar)\n",
        "\n",
        "Output:\n",
        "*   **weights**: vector of weights that have been optimized (numpy array of M+1 weights)\n",
        "\n"
      ]
    },
    {
      "cell_type": "code",
      "metadata": {
        "id": "_DkzoT5QVy41"
      },
      "source": [
        "def train_logistic_regression(train_inputs, train_labels, lambda_hyperparam):\n",
        "  n_weights = train_inputs.shape[1]     #n_weights = m+1 = 65\n",
        "  weights_random = initialize_weights(n_weights)\n",
        "  weights = np.zeros(train_inputs.shape[1])\n",
        "  m = 1\n",
        "     \n",
        "  while (m > 0.001):\n",
        "    z = sigmoid(np.dot(train_inputs,weights_random.T))\n",
        "    q = lambda_hyperparam * weights_random\n",
        "    g = (np.dot(train_inputs.T,(z - train_labels))) \n",
        "    gradient = g + q\n",
        "    R= np.diag(np.full(train_inputs.shape[0],1))\n",
        "    r = z * (1 - z)\n",
        "    R = R * r\n",
        "    l = np.dot(train_inputs.T,R)\n",
        "    h = np.dot(l,train_inputs)\n",
        "    I = np.identity(h.shape[0],dtype=float) \n",
        "    hessian = h + (np.dot(lambda_hyperparam,I))\n",
        "    k = np.dot((np.linalg.pinv(hessian)),gradient)\n",
        "    weights = weights_random - k\n",
        "    m = max(weights - weights_random)\n",
        "    weights_random = weights\n",
        "        \n",
        "  return weights"
      ],
      "execution_count": null,
      "outputs": []
    },
    {
      "cell_type": "markdown",
      "metadata": {
        "id": "VYIbLxX7V2DW"
      },
      "source": [
        "# Function cross_validation_logistic_regression\n",
        "\n",
        "This function performs k-fold cross validation to determine the best lambda hyperparameter in logistic regression\n",
        "\n",
        "Inputs:\n",
        "*   **k_folds**: # of folds in cross-validation (integer)\n",
        "*   **hyperparameters**: list of hyperparameters where each hyperparameter is a different lambda value (list of floats)\n",
        "*   **inputs**: matrix of input points (numpy array of N data points by M+1 features)\n",
        "*   **labels**: vector of labels associated with the inputs (numpy array of N labels)\n",
        "\n",
        "Outputs:\n",
        "*   **best_hyperparam**: best lambda value for logistic regression (float)\n",
        "*   **best_neg_log_prob**: negative log probabilty achieved with best_hyperparam (float)\n",
        "*   **neg_log_probabilities**: vector of negative log probabilities for the corresponding hyperparameters (numpy array of floats)\n",
        "\n"
      ]
    },
    {
      "cell_type": "code",
      "metadata": {
        "id": "_ZzoiZxLZMcV"
      },
      "source": [
        "def cross_validation_logistic_regression(k_folds, hyperparameters, inputs, labels):\n",
        "  kfold_inputs = np.split(inputs,k_folds)\n",
        "  kfold_labels = np.split(labels,k_folds)\n",
        "  best_hyperparam = 0\n",
        "  k_neg_log_prob=[]\n",
        "  for l in hyperparameters:\n",
        "    k_neg_log_probabilities=[]\n",
        "    for i in range(k_folds):\n",
        "      train_inputs = np.concatenate(kfold_inputs[:i] + kfold_inputs[i+1:])\n",
        "      test_inputs = kfold_inputs[i]\n",
        "      train_labels = np.concatenate(kfold_labels[:i] + kfold_labels[i+1:])\n",
        "      test_labels = kfold_labels[i]\n",
        "      weights = train_logistic_regression(train_inputs, train_labels, l)\n",
        "      k_neg_log_probabilities.append(eval_logistic_regression(test_inputs, weights, test_labels)[0])\n",
        "    k_neg_log_prob.append(np.mean(np.array(k_neg_log_probabilities)))\n",
        "    \n",
        "  best_neg_log_prob = min(k_neg_log_prob)\n",
        " \n",
        "  element = (np.where(k_neg_log_prob == (best_neg_log_prob)))\n",
        "  best_hyperparam = hyperparameters[element[0][0]] \n",
        "  neg_log_probabilities = k_neg_log_prob\n",
        "  \n",
        "  return best_hyperparam, best_neg_log_prob, neg_log_probabilities"
      ],
      "execution_count": null,
      "outputs": []
    },
    {
      "cell_type": "markdown",
      "metadata": {
        "id": "_ah5AAayZfVU"
      },
      "source": [
        "# Function: plot_logistic_regression_neg_log_probabilities\n",
        "\n",
        "Function that plots the negative log probabilities for different lambda values (hyperparameters) in logistic regression based on cross validation\n",
        "\n",
        "Inputs:\n",
        "*   **neg_log_probabilities**: vector of negative log probabilities for the corresponding hyperparameters (numpy array of floats)\n",
        "*   **hyperparams**: list of hyperparameters where each hyperparameter is a different lambda value (list of floats)"
      ]
    },
    {
      "cell_type": "code",
      "metadata": {
        "id": "dh9qZuzMatsZ"
      },
      "source": [
        "def plot_logistic_regression_neg_log_probabilities(neg_log_probabilities,hyperparams):\n",
        "  plt.plot(hyperparams,neg_log_probabilities)\n",
        "  plt.ylabel('negative log probability')\n",
        "  plt.xlabel('lambda')\n",
        "  plt.show()"
      ],
      "execution_count": null,
      "outputs": []
    },
    {
      "cell_type": "markdown",
      "metadata": {
        "id": "s21LRP5Qb3m8"
      },
      "source": [
        "# Main Logistic Regression code\n",
        "\n",
        "Load data (rescale the inputs to be in the [-1,1] range, add 1 at the end of each datapoint and rename the labels 5,6 to 0,1).\n",
        "Use k-fold cross validation to find the best lambda value for logistic regression.\n",
        "Plot the negative log probabilities for different lambda values.\n",
        "Test logistic regression with the best lambda value."
      ]
    },
    {
      "cell_type": "code",
      "metadata": {
        "id": "njlK2bf7sycQ",
        "colab": {
          "base_uri": "https://localhost:8080/",
          "height": 366
        },
        "outputId": "764d308d-2154-4de4-f2a3-68144e4c3ccb"
      },
      "source": [
        "# load data\n",
        "train_inputs, train_labels, test_inputs, test_labels = load_logistic_regression_data()\n",
        "\n",
        "# rescale inputs in the [-1,1] range\n",
        "train_inputs = (train_inputs - 8)/8\n",
        "test_inputs = (test_inputs - 8)/8\n",
        "\n",
        "# add 1 at the end of each data point\n",
        "train_inputs = np.concatenate((train_inputs,np.ones((train_inputs.shape[0],1))),1)\n",
        "test_inputs = np.concatenate((test_inputs,np.ones((test_inputs.shape[0],1))),1)\n",
        "\n",
        "# rename the classes 5,6 to 0,1\n",
        "train_labels = train_labels.astype(int) - 5\n",
        "test_labels = test_labels.astype(int) - 5\n",
        "\n",
        "# lambda values to be evaluated by cross validation\n",
        "hyperparams = range(201)\n",
        "k_folds = 10\n",
        "best_lambda, best_neg_log_prob, neg_log_probabilities = cross_validation_logistic_regression(k_folds,hyperparams,train_inputs,train_labels)\n",
        "\n",
        "# plot results\n",
        "plot_logistic_regression_neg_log_probabilities(neg_log_probabilities,hyperparams)\n",
        "print('best lambda: ' + str (best_lambda))\n",
        "print('best cross validation negative log probability: ' + str(best_neg_log_prob))\n",
        "\n",
        "# train and evaluate with best lambda\n",
        "weights = train_logistic_regression(train_inputs,train_labels,best_lambda)\n",
        "neg_log_prob, accuracy = eval_logistic_regression(test_inputs, weights, test_labels)\n",
        "print('test accuracy: ' + str(accuracy))\n",
        "print('test negative log probability: ' + str(neg_log_prob))\n",
        "\n",
        "#For linear separability\n",
        "negative_log_probability, accuracy = eval_logistic_regression(train_inputs, weights, train_labels)\n",
        "print('Accuracy for training data: ' + str(accuracy))\n"
      ],
      "execution_count": null,
      "outputs": [
        {
          "output_type": "display_data",
          "data": {
            "image/png": "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\n",
            "text/plain": [
              "<Figure size 432x288 with 1 Axes>"
            ]
          },
          "metadata": {
            "tags": [],
            "needs_background": "light"
          }
        },
        {
          "output_type": "stream",
          "text": [
            "best lambda: 8\n",
            "best cross validation negative log probability: 37.60806443598902\n",
            "test accuracy: 87.2727\n",
            "test negative log probability: 33.29203021738569\n",
            "Accuracy for training data: 87.8\n"
          ],
          "name": "stdout"
        }
      ]
    }
