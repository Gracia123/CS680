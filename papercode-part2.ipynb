{
 "cells": [
  {
   "cell_type": "markdown",
   "metadata": {},
   "source": [
    "importing libraries"
   ]
  },
  {
   "cell_type": "code",
   "execution_count": 1,
   "metadata": {},
   "outputs": [],
   "source": [
    "import pandas as pd\n",
    "import numpy as np\n",
    "import matplotlib.pyplot as plt\n",
    "import seaborn as sns"
   ]
  },
  {
   "cell_type": "code",
   "execution_count": 2,
   "metadata": {},
   "outputs": [],
   "source": [
    "from sklearn.linear_model import LinearRegression"
   ]
  },
  {
   "cell_type": "code",
   "execution_count": 3,
   "metadata": {},
   "outputs": [],
   "source": [
    "import warnings\n",
    "warnings.filterwarnings(\"ignore\")"
   ]
  },
  {
   "cell_type": "markdown",
   "metadata": {},
   "source": [
    "importing dataset"
   ]
  },
  {
   "cell_type": "code",
   "execution_count": null,
   "metadata": {},
   "outputs": [],
   "source": [
    "train_data = pd.read_csv(r\"C:\\\\Users\\\\DELL\\Desktop\\Dataset\\rossmann-store-sales\\train.csv\", sep=',', parse_dates = True, index_col = 'Date',\n",
    "                    dtype={'StateHoliday':str, 'SchoolHoliday':str})"
   ]
  },
  {
   "cell_type": "code",
   "execution_count": null,
   "metadata": {},
   "outputs": [],
   "source": [
    "store_data = pd.read_csv(r\"C:\\\\Users\\\\DELL\\Desktop\\Dataset\\rossmann-store-sales\\store.csv\")"
   ]
  },
  {
   "cell_type": "code",
   "execution_count": null,
   "metadata": {},
   "outputs": [],
   "source": [
    "print(\"Number of observations & Number of features\", train_data.shape)\n",
    "train_data.head()"
   ]
  },
  {
   "cell_type": "code",
   "execution_count": null,
   "metadata": {},
   "outputs": [],
   "source": [
    "print(\"Number of observations & Number of features\", store_data.shape)\n",
    "store_data.head()"
   ]
  },
  {
   "cell_type": "code",
   "execution_count": null,
   "metadata": {},
   "outputs": [],
   "source": [
    "print(\"Train:\\n\\n\", train_data.isnull().sum(), \n",
    "     \"\\n\\nstore:\\n\\n\", store_data.isnull().sum())"
   ]
  },
  {
   "cell_type": "code",
   "execution_count": null,
   "metadata": {},
   "outputs": [],
   "source": [
    "store_data = store_data.drop(['CompetitionOpenSinceMonth', 'CompetitionOpenSinceYear','Promo2SinceWeek',\n",
    "                     'Promo2SinceYear', 'PromoInterval'], axis=1)"
   ]
  },
  {
   "cell_type": "code",
   "execution_count": null,
   "metadata": {},
   "outputs": [],
   "source": [
    "sns.distplot(store_data.CompetitionDistance.dropna())\n",
    "plt.title(\"Distribution of Store Competition Distance\")"
   ]
  },
  {
   "cell_type": "code",
   "execution_count": null,
   "metadata": {},
   "outputs": [],
   "source": [
    "store_data.CompetitionDistance.fillna(store_data.CompetitionDistance.median(), inplace=True)"
   ]
  },
  {
   "cell_type": "code",
   "execution_count": null,
   "metadata": {},
   "outputs": [],
   "source": [
    "train_data['Year'] = train_data.index.year\n",
    "train_data['Month'] = train_data.index.month\n",
    "train_data['Day'] = train_data.index.day\n",
    "train_data['WeekOfYear'] = train_data.index.weekofyear\n",
    "train_data = train_data.reset_index()"
   ]
  },
  {
   "cell_type": "code",
   "execution_count": null,
   "metadata": {},
   "outputs": [],
   "source": [
    "full_data = pd.merge(train_data, store_data, how='left', on='Store')\n",
    "full_data.head()"
   ]
  },
  {
   "cell_type": "code",
   "execution_count": null,
   "metadata": {},
   "outputs": [],
   "source": [
    "set(full_data.StateHoliday), set(full_data.StoreType), set(full_data.Assortment)\n",
    "\n",
    "full_data.loc[full_data.StateHoliday == 0,'StateHoliday'] = full_data.loc[full_data.StateHoliday == 0,'StateHoliday'].astype(str)"
   ]
  },
  {
   "cell_type": "code",
   "execution_count": null,
   "metadata": {},
   "outputs": [],
   "source": [
    "full_data.head()"
   ]
  },
  {
   "cell_type": "code",
   "execution_count": null,
   "metadata": {},
   "outputs": [],
   "source": [
    "sales = full_data[['Year','Month','Store','Sales']].groupby(['Year','Month','Store']).mean()\n",
    "sales = sales.rename(columns={'Sales':'AvgSales'})\n",
    "sales = sales.reset_index()"
   ]
  },
  {
   "cell_type": "code",
   "execution_count": null,
   "metadata": {},
   "outputs": [],
   "source": [
    "full_data['sales_key']=full_data['Year'].map(str) + full_data['Month'].map(str) + full_data['Store'].map(str)\n",
    "sales['sales_key']=sales['Year'].map(str) + sales['Month'].map(str) + sales['Store'].map(str)\n",
    "\n",
    "cust = full_data[['Year','Month','Store','Customers']].groupby(['Year','Month', 'Store']).mean()\n",
    "cust = cust.rename(columns={'Customers':'AvgCustomer'})\n",
    "cust = cust.reset_index()\n",
    "\n",
    "full_data['cust_key']=full_data['Year'].map(str) + full_data['Month'].map(str) + full_data['Store'].map(str)\n",
    "cust['cust_key']=cust['Year'].map(str) + cust['Month'].map(str) + cust['Store'].map(str)"
   ]
  },
  {
   "cell_type": "code",
   "execution_count": null,
   "metadata": {},
   "outputs": [],
   "source": [
    "full_data.head()"
   ]
  },
  {
   "cell_type": "code",
   "execution_count": null,
   "metadata": {},
   "outputs": [],
   "source": [
    "full_data = full_data.drop('Customers', axis=1)# drop extra columns\n",
    "cust = cust.drop(['Year', 'Month', 'Store'], axis=1)\n",
    "\n",
    "full_data = pd.merge(full_data, cust, how=\"left\", on=('cust_key'))"
   ]
  },
  {
   "cell_type": "code",
   "execution_count": null,
   "metadata": {},
   "outputs": [],
   "source": [
    "full_data.head()"
   ]
  },
  {
   "cell_type": "code",
   "execution_count": null,
   "metadata": {},
   "outputs": [],
   "source": [
    "full_data['StateHoliday'] = full_data.StateHoliday.map({'0':0, 'a':1 ,'b' : 1,'c': 1})\n",
    "\n",
    "full_data = full_data.drop(['cust_key','sales_key','Store','Date'], axis=1)\n",
    "\n",
    "full_data_v = full_data.sample(n=5000, random_state=1)\n"
   ]
  },
  {
   "cell_type": "code",
   "execution_count": null,
   "metadata": {},
   "outputs": [],
   "source": [
    "\n",
    "corr = full_data.corr()"
   ]
  },
  {
   "cell_type": "code",
   "execution_count": null,
   "metadata": {},
   "outputs": [],
   "source": [
    "mask = np.zeros_like(corr, dtype = np.bool)\n",
    "mask[np.triu_indices_from(mask)] = True\n",
    "f, ax = plt.subplots(figsize = (11, 9))\n",
    "sns.heatmap(corr, mask = mask,\n",
    "            square = True, linewidths = .7, ax = ax, cmap = \"BuPu\")\n",
    "plt.title(\"Correlation Heatmap\", fontsize=10)"
   ]
  },
  {
   "cell_type": "code",
   "execution_count": null,
   "metadata": {},
   "outputs": [],
   "source": [
    "dfd = full_data\n",
    "\n",
    "X = dfd.drop('Sales', axis=1) #has everything except sales\n",
    "Y = dfd.Sales #has only sales\n",
    "\n",
    "xd = X.copy()\n",
    "xd = dfd.copy()\n",
    "xd = pd.get_dummies(xd)"
   ]
  },
  {
   "cell_type": "code",
   "execution_count": null,
   "metadata": {},
   "outputs": [],
   "source": [
    "X.head()"
   ]
  },
  {
   "cell_type": "code",
   "execution_count": null,
   "metadata": {},
   "outputs": [],
   "source": [
    "y.head()"
   ]
  },
  {
   "cell_type": "code",
   "execution_count": null,
   "metadata": {},
   "outputs": [],
   "source": [
    "xd.head()"
   ]
  },
  {
   "cell_type": "code",
   "execution_count": null,
   "metadata": {},
   "outputs": [],
   "source": [
    "xl = X.copy()\n",
    "from sklearn.preprocessing import LabelEncoder\n",
    "label = LabelEncoder() # used to normalize labels convert string to numerical data\n",
    "xl.StateHoliday = label.fit_transform(xl.StateHoliday)\n",
    "xl.Assortment = label.fit_transform(xl.Assortment)\n",
    "xl.StoreType = label.fit_transform(xl.StoreType)"
   ]
  },
  {
   "cell_type": "code",
   "execution_count": null,
   "metadata": {},
   "outputs": [],
   "source": [
    "xl.head() #except sales"
   ]
  },
  {
   "cell_type": "code",
   "execution_count": null,
   "metadata": {},
   "outputs": [],
   "source": [
    "from sklearn.model_selection import train_test_split\n",
    "xd_train,xd_test,yd_train,yd_test = train_test_split(xd,Y,test_size=0.20, random_state=1) \n",
    "xl_train,xl_test,yl_train,yl_test = train_test_split(xl,Y,test_size=0.20, random_state=1) \n",
    "from sklearn.linear_model import LinearRegression\n",
    "lin= LinearRegression()\n",
    "linreg = lin.fit(xd_train, yd_train)"
   ]
  },
  {
   "cell_type": "code",
   "execution_count": null,
   "metadata": {},
   "outputs": [],
   "source": [
    "xl_train.head()"
   ]
  },
  {
   "cell_type": "code",
   "execution_count": null,
   "metadata": {},
   "outputs": [],
   "source": [
    "xd_train.head()"
   ]
  },
  {
   "cell_type": "code",
   "execution_count": null,
   "metadata": {},
   "outputs": [],
   "source": [
    "xd_test.head()"
   ]
  },
  {
   "cell_type": "code",
   "execution_count": null,
   "metadata": {},
   "outputs": [],
   "source": [
    "yd_train.head()"
   ]
  },
  {
   "cell_type": "code",
   "execution_count": null,
   "metadata": {},
   "outputs": [],
   "source": [
    "yl_train.head()"
   ]
  },
  {
   "cell_type": "code",
   "execution_count": null,
   "metadata": {},
   "outputs": [],
   "source": [
    "yd_test.head()"
   ]
  },
  {
   "cell_type": "code",
   "execution_count": null,
   "metadata": {},
   "outputs": [],
   "source": [
    "from sklearn.metrics import mean_squared_error\n",
    "from math import sqrt\n",
    "def rmse(x, y):\n",
    "    return sqrt(mean_squared_error(x, y))\n",
    "# definte MAPE function\n",
    "def mape(x, y):\n",
    "    return np.mean(np.fabs((x-y)/x))*100 "
   ]
  },
  {
   "cell_type": "code",
   "execution_count": null,
   "metadata": {},
   "outputs": [],
   "source": [
    "# get cross validation scores\n",
    "yd_predicted = linreg.predict(xd_train)\n",
    "yd_test_predicted = linreg.predict(xd_test)\n",
    "print(\"Regression Model Score\" , \":\" , linreg.score(xd_train, yd_train) , \",\" ,\n",
    "      \"Out of Sample Test Score\" ,\":\" , linreg.score(xd_test, yd_test))\n",
    "print(\"Training RMSE\", \":\", rmse(yd_train, yd_predicted),\n",
    "      \"Testing RMSE\", \":\", rmse(yd_test, yd_test_predicted))\n",
    "print(\"Training MAPE\", \":\", mape(yd_train, yd_predicted),\n",
    "      \"Testing MAPE\", \":\", mape(yd_test, yd_test_predicted))"
   ]
  },
  {
   "cell_type": "code",
   "execution_count": null,
   "metadata": {},
   "outputs": [],
   "source": [
    "# The coefficients\n",
    "print('Coefficients: \\n', lin.coef_)"
   ]
  },
  {
   "cell_type": "code",
   "execution_count": null,
   "metadata": {},
   "outputs": [],
   "source": [
    "from sklearn.neighbors import KNeighborsRegressor\n",
    "knn = KNeighborsRegressor(n_neighbors = 50)\n",
    "knnreg = knn.fit(xd_train, yd_train)"
   ]
  },
  {
   "cell_type": "code",
   "execution_count": null,
   "metadata": {},
   "outputs": [],
   "source": [
    "print(\"Regression Model Score\" , \":\" , knnreg.score(xd_train, yd_train) , \",\" ,\n",
    "      \"Out of Sample Test Score\" ,\":\" , knnreg.score(xd_test, yd_test))\n",
    "yd_predicted = knnreg.predict(xd_train)\n",
    "yd_test_predicted = knnreg.predict(xd_test)\n",
    "print(\"Training RMSE\", \":\", rmse(yd_train, yd_predicted),\n",
    "      \"Testing RMSE\", \":\", rmse(yd_test, yd_test_predicted))\n",
    "print(\"Training MAPE\", \":\", mape(yd_train, yd_predicted),\n",
    "      \"Testing MAPE\", \":\", mape(yd_test, yd_test_predicted))"
   ]
  },
  {
   "cell_type": "code",
   "execution_count": null,
   "metadata": {},
   "outputs": [],
   "source": [
    "for x in range(1,10):\n",
    "    knn = KNeighborsRegressor(n_neighbors = x)\n",
    "    knnreg = knn.fit(xd_train, yd_train)\n",
    "    print(\"Regresion Model Score\" , \":\" , knnreg.score(xd_train, yd_train) , \",\" ,\n",
    "      \"Out of Sample Test Score\" ,\":\" , knnreg.score(xd_test, yd_test))"
   ]
  },
  {
   "cell_type": "code",
   "execution_count": null,
   "metadata": {},
   "outputs": [],
   "source": []
  },
  {
   "cell_type": "markdown",
   "metadata": {},
   "source": [
    "inspecting dataset\n"
   ]
  },
  {
   "cell_type": "code",
   "execution_count": null,
   "metadata": {},
   "outputs": [],
   "source": [
    "print(train_data.describe())"
   ]
  },
  {
   "cell_type": "code",
   "execution_count": null,
   "metadata": {},
   "outputs": [],
   "source": [
    "train_data.StateHoliday.unique()"
   ]
  },
  {
   "cell_type": "code",
   "execution_count": null,
   "metadata": {},
   "outputs": [],
   "source": [
    "store_data = train_data[train_data.Store==150].sort_values('Date')\n",
    "plt.figure(figsize=(30, 10))  \n",
    "plt.plot(store_data.Sales.values[:730])"
   ]
  },
  {
   "cell_type": "code",
   "execution_count": null,
   "metadata": {},
   "outputs": [],
   "source": [
    "print(\"Mean   - {:8,.2f}\".format(np.mean(train_data.Sales)))\n"
   ]
  },
  {
   "cell_type": "code",
   "execution_count": null,
   "metadata": {},
   "outputs": [],
   "source": [
    "maxsales_plot = train_data.groupby(\"DayOfWeek\").sum().plot(kind='bar')\n",
    "maxsales_plot.set_xlabel(\"Day of the week\")\n",
    "maxsales_plot.set_ylabel(\"Units\")"
   ]
  },
  {
   "cell_type": "code",
   "execution_count": null,
   "metadata": {},
   "outputs": [],
   "source": [
    "df_items = train_data[[\"DayOfWeek\", \"Sales\"]]\n",
    "df_items.groupby(\"DayOfWeek\").sum().plot(kind=\"bar\")"
   ]
  },
  {
   "cell_type": "code",
   "execution_count": null,
   "metadata": {},
   "outputs": [],
   "source": [
    "plt.plot( 'Sales', 'Promo', data=train_data, linestyle='none', marker='o')\n",
    "plt.xlabel('Sales')\n",
    "plt.ylabel('Promo')\n",
    "plt.show()"
   ]
  },
  {
   "cell_type": "code",
   "execution_count": null,
   "metadata": {},
   "outputs": [],
   "source": [
    "sns.distplot(train_data.Customers.dropna())\n",
    "plt.title(\"Distribution of Customers\")"
   ]
  },
  {
   "cell_type": "code",
   "execution_count": null,
   "metadata": {},
   "outputs": [],
   "source": [
    "sns.distplot(train_data.Sales.dropna())\n",
    "plt.title(\"Distribution of Sales\")"
   ]
  },
  {
   "cell_type": "code",
   "execution_count": null,
   "metadata": {},
   "outputs": [],
   "source": [
    "plt.plot( 'Sales', 'Date', data=train_data, linestyle='none', marker='o')\n",
    "plt.xlabel('Sales')\n",
    "plt.ylabel('Date')\n",
    "plt.show()"
   ]
  },
  {
   "cell_type": "code",
   "execution_count": null,
   "metadata": {},
   "outputs": [],
   "source": [
    "new_plot = train_data[train_data.Customers==500].sort_values('Date')\n",
    "plt.figure(figsize=(15, 5))  \n",
    "plt.plot(new_plot.Sales.values[:730])\n"
   ]
  },
  {
   "cell_type": "code",
   "execution_count": null,
   "metadata": {},
   "outputs": [],
   "source": [
    "# The coefficients\n",
    "print('Coefficients: \\n', lin.coef_)"
   ]
  },
  {
   "cell_type": "markdown",
   "metadata": {},
   "source": [
    "end"
   ]
  },
  {
   "cell_type": "code",
   "execution_count": null,
   "metadata": {},
   "outputs": [],
   "source": [
    "sns.regplot(x=train_data[\"Sales\"], y=train_data[\"Promo\"], line_kws={\"color\":\"r\",\"alpha\":0.7,\"lw\":5})\n",
    "#sns.plt.show()"
   ]
  },
  {
   "cell_type": "code",
   "execution_count": null,
   "metadata": {},
   "outputs": [],
   "source": [
    "sns.set(color_codes=True)\n"
   ]
  },
  {
   "cell_type": "code",
   "execution_count": null,
   "metadata": {},
   "outputs": [],
   "source": [
    "sns.pairplot(train_data, kind=\"reg\",vars=[\"Sales\",\"Customers\"])\n",
    "plt.show()"
   ]
  },
  {
   "cell_type": "code",
   "execution_count": null,
   "metadata": {},
   "outputs": [],
   "source": [
    "sns.pairplot(train_data, kind=\"reg\",vars=[\"Promo\",\"Sales\"])\n",
    "plt.show()"
   ]
  },
  {
   "cell_type": "code",
   "execution_count": null,
   "metadata": {},
   "outputs": [],
   "source": [
    "sns.pairplot(train_data, kind=\"scatter\",vars=[\"Sales\",\"Customers\"])"
   ]
  }
 ],
 "metadata": {
  "kernelspec": {
   "display_name": "Python 2",
   "language": "python",
   "name": "python2"
  },
  "language_info": {
   "codemirror_mode": {
    "name": "ipython",
    "version": 2
   },
   "file_extension": ".py",
   "mimetype": "text/x-python",
   "name": "python",
   "nbconvert_exporter": "python",
   "pygments_lexer": "ipython2",
   "version": "2.7.16"
  }
 },
 "nbformat": 4,
 "nbformat_minor": 2
}
